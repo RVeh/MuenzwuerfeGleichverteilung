{
 "cells": [
  {
   "cell_type": "code",
   "execution_count": 23,
   "id": "35f3a3a5-7fd9-416d-a21b-3786ce44dd5c",
   "metadata": {},
   "outputs": [
    {
     "data": {
      "image/png": "[encoded data removed]",
      "text/plain": [
       "<Figure size 576x360 with 1 Axes>"
      ]
     },
     "metadata": {
      "needs_background": "light"
     },
     "output_type": "display_data"
    }
   ],
   "source": [
    "import numpy as np\n",
    "import matplotlib.pyplot as plt\n",
    "from fractions import Fraction\n",
    "\n",
    "def simulate_sequence_values(num_flips, probability, num_trials):\n",
    "    \"\"\"\n",
    "    Simuliert mehrere Sequenzen von Münzwürfen und berechnet die Werte der Sequenzen.\n",
    "    \n",
    "    Args:\n",
    "    - num_flips: Anzahl der Würfe pro Sequenz.\n",
    "    - probability: Wahrscheinlichkeit für einen Treffer (z.B. 0.5 für eine faire Münze).\n",
    "    - num_trials: Anzahl der zu simulierenden Sequenzen.\n",
    "    \n",
    "    Returns:\n",
    "    - Array der berechneten Werte für jede Sequenz.\n",
    "    \"\"\"\n",
    "    # Simuliere die Treffer (1) und Nicht-Treffer (0) für jede Sequenz\n",
    "    flips = np.random.binomial(1, probability, (num_trials, num_flips))\n",
    "    \n",
    "    # Berechne den Wert jeder Sequenz\n",
    "    values = np.sum(flips * (1 / 2) ** np.arange(1, num_flips + 1), axis=1)\n",
    "    return values\n",
    "\n",
    "def plot_sequence_value_distribution(num_flips, probability, num_trials, \n",
    "                                     save_as_png=False, figsize=(10, 6)):\n",
    "    \"\"\"\n",
    "    Plottet die Verteilung der Sequenzwerte als Histogramm mit relativen Häufigkeiten.\n",
    "    \n",
    "    Args:\n",
    "    - num_flips: Anzahl der Würfe pro Sequenz.\n",
    "    - probability: Wahrscheinlichkeit für einen Treffer.\n",
    "    - num_trials: Anzahl der zu simulierenden Sequenzen.\n",
    "    - save_as_png: Bool, ob das Bild als PNG gespeichert werden soll.\n",
    "    - figsize: Größe des Bildes im Format (Breite, Höhe).\n",
    "    \"\"\"\n",
    "    # Simuliere die Werte der Sequenzen\n",
    "    sequence_values = simulate_sequence_values(num_flips, probability, num_trials)\n",
    "    \n",
    "    # Berechne die einzigartigen Werte und ihre Häufigkeiten\n",
    "    unique_values, counts = np.unique(sequence_values, return_counts=True)\n",
    "    relative_frequencies = counts / num_trials  # Umrechnung in relative Häufigkeiten\n",
    "    \n",
    "    # Berechne den Wert der Gleichverteilung\n",
    "    uniform_value = 1 / (2 ** num_flips)\n",
    "    \n",
    "    # Erstelle das Histogramm für die diskreten Werte\n",
    "    plt.figure(figsize=figsize)\n",
    "    plt.bar(unique_values, relative_frequencies, width=0.008, color='skyblue')\n",
    "    plt.axhline(y=uniform_value, color='gray', linestyle='--',\n",
    "                linewidth=1, label=f\"Gleichverteilung (1/2^{num_flips})\")\n",
    "    plt.xlabel(\"Realisationen für $X$\",fontsize=14)\n",
    "    plt.ylabel(\"relative Häufigkeit\",fontsize=14)\n",
    "    plt.title(f\"Häufigkeitsverteilung von $X_{num_flips}$;\"\n",
    "              f\" {num_trials} Simulationen mit {num_flips} Würfen (p={probability})\")\n",
    "    \n",
    "    # Bruchdarstellung auf der x-Achse für n < 5, Dezimalwerte für n > 5\n",
    "    if num_flips < 5:\n",
    "        x_labels = [Fraction(value).limit_denominator() for value in unique_values]\n",
    "        # Anzeige der Brüche als Strings\n",
    "        plt.xticks(unique_values, [str(f) for f in x_labels])  \n",
    "    else:\n",
    "        plt.xticks(np.linspace(0, 1, 11),fontsize=14)\n",
    "    \n",
    "    # Legende hinzufügen\n",
    "    plt.legend()\n",
    "\n",
    "    # Bild speichern, falls gewünscht\n",
    "    if save_as_png:\n",
    "        plt.savefig(\"Häufigkeitsverteilung.png\", format=\"png\", dpi=300)\n",
    "    \n",
    "    # Zeige das Diagramm\n",
    "    plt.yticks(fontsize=12)\n",
    "    max_relative_frequency = max(relative_frequencies)\n",
    "    plt.ylim(ymax=1.15 * max_relative_frequency)  \n",
    "    plt.tight_layout()\n",
    "    plt.show()\n",
    "\n",
    "# Parameter für die Simulation\n",
    "num_flips = 3          # Anzahl der Würfe pro Spiel\n",
    "probability = 0.5      # Wahrscheinlichkeit für einen Treffer (Kopf)\n",
    "num_trials = 10000     # Anzahl der Simulationen\n",
    "save_as_png = True     # Speichert das Diagramm als PNG\n",
    "figsize = (8, 5)       # Größe des Bildes (Breite, Höhe)\n",
    "\n",
    "# Simulation ausführen und Verteilung der Werte plotten\n",
    "plot_sequence_value_distribution(num_flips, probability, \n",
    "                                 num_trials, save_as_png=save_as_png, \n",
    "                                 figsize=figsize)"
   ]
  },
  {
   "cell_type": "code",
   "execution_count": null,
   "id": "bf5b9249-3be5-459c-a483-7ff4e885215a",
   "metadata": {},
   "outputs": [],
   "source": []
  }
 ],
 "metadata": {
  "kernelspec": {
   "display_name": "Python 3 (ipykernel)",
   "language": "python",
   "name": "python3"
  },
  "language_info": {
   "codemirror_mode": {
    "name": "ipython",
    "version": 3
   },
   "file_extension": ".py",
   "mimetype": "text/x-python",
   "name": "python",
   "nbconvert_exporter": "python",
   "pygments_lexer": "ipython3",
   "version": "3.9.7"
  }
 },
 "nbformat": 4,
 "nbformat_minor": 5
}
